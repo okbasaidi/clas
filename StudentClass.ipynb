{
 "cells": [
  {
   "cell_type": "code",
   "execution_count": 90,
   "id": "b24bfb7c",
   "metadata": {},
   "outputs": [
    {
     "name": "stdout",
     "output_type": "stream",
     "text": [
      "studnet1 First Name is:  Okba\n",
      "studnet1 Last Name is:  Saidi\n",
      "Input Your Grades:13\n",
      "Input Your Grades:14\n",
      "Input Your Grades:15.75\n",
      "studnet2 First Name is:  Neha\n",
      "studnet2 Last Name is:  Saidi\n",
      "Input Your Grades:17.5\n",
      "Input Your Grades:12.75\n",
      "Input Your Grades:19.5\n",
      "Input Your Grades:18\n",
      "the grades are: [13.0, 14.0, 15.75]\n",
      "the grades are: [17.5, 12.75, 19.5, 18.0]\n",
      "fist student had an Average of : 14.25\n",
      "second student had an Average of : 16.94\n",
      "student1 had a high grrade of: 15.75\n",
      "student1 had a Low grrade of: 13.0\n",
      "student2 had a high grrade of: 19.5\n",
      "student2 had a Low grrade of: 12.75\n"
     ]
    }
   ],
   "source": [
    "class student:\n",
    "    def __init__(self,FN,LN,NmG):\n",
    "        self.FirstName=FN\n",
    "        self.LastName=LN\n",
    "        self.NmG=NmG\n",
    "    def InputGrades(self):\n",
    "        self.grade=[]\n",
    "        for i in range(0,self.NmG,1):\n",
    "            for i in range(0,self.NmG,1):\n",
    "                self.grades=float(input('Input Your Grades:'))\n",
    "                self.grade.append(self.grades)\n",
    "            return self.grade\n",
    "    def PrintGrades(self):\n",
    "        print('the grades are:',self.grade)\n",
    "    def Average(self):\n",
    "        self.average=0\n",
    "        for i in range(0,len(self.grade),1):\n",
    "            self.average=self.average+self.grade[i]/self.NmG\n",
    "        return self.average\n",
    "    def HighG_LowG(self):\n",
    "        HighG=0\n",
    "        LowG=20\n",
    "        for i in range(0,self.NmG,1):\n",
    "            if (self.grade[i]>HighG):\n",
    "                HighG=self.grade[i]\n",
    "            if (self.grade[i]<LowG):\n",
    "                LowG=self.grade[i]\n",
    "        return HighG , LowG\n",
    "student1=student('Okba','Saidi',3)\n",
    "student2=student('Neee','Saidi',4)\n",
    "print('studnet1 First Name is: ',student1.FirstName)\n",
    "print('studnet1 Last Name is: ',student1.LastName)\n",
    "student1.InputGrades()\n",
    "print('studnet2 First Name is: ',student2.FirstName)\n",
    "print('studnet2 Last Name is: ',student2.LastName)\n",
    "student2.InputGrades()\n",
    "student1.PrintGrades()\n",
    "student2.PrintGrades()\n",
    "print('fist student had an Average of :',round(student1.Average(),2))\n",
    "print('second student had an Average of :',round(student2.Average(),2))\n",
    "HighG,LowG=student1.HighG_LowG()\n",
    "print('student1 had a high grrade of:',HighG)\n",
    "print('student1 had a Low grrade of:',LowG)\n",
    "HighG,LowG=student2.HighG_LowG()\n",
    "print('student2 had a high grrade of:',HighG)\n",
    "print('student2 had a Low grrade of:',LowG)"
   ]
  },
  {
   "cell_type": "markdown",
   "id": "d96062c7",
   "metadata": {},
   "source": [
    "##### "
   ]
  }
 ],
 "metadata": {
  "kernelspec": {
   "display_name": "Python 3 (ipykernel)",
   "language": "python",
   "name": "python3"
  },
  "language_info": {
   "codemirror_mode": {
    "name": "ipython",
    "version": 3
   },
   "file_extension": ".py",
   "mimetype": "text/x-python",
   "name": "python",
   "nbconvert_exporter": "python",
   "pygments_lexer": "ipython3",
   "version": "3.9.7"
  }
 },
 "nbformat": 4,
 "nbformat_minor": 5
}
